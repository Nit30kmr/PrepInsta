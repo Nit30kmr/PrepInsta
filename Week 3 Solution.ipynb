{
 "cells": [
  {
   "cell_type": "code",
   "execution_count": 1,
   "id": "77331933",
   "metadata": {},
   "outputs": [],
   "source": [
    "import pandas as pd \n",
    "import numpy as np"
   ]
  },
  {
   "cell_type": "code",
   "execution_count": 2,
   "id": "4fde0baf",
   "metadata": {},
   "outputs": [],
   "source": [
    "df= pd.read_csv(\"D:\\IMP DOC\\Data-cleaning-for-beginners-using-pandas.csv\")"
   ]
  },
  {
   "cell_type": "code",
   "execution_count": 3,
   "id": "bfb7d7b3",
   "metadata": {},
   "outputs": [
    {
     "data": {
      "text/html": [
       "<div>\n",
       "<style scoped>\n",
       "    .dataframe tbody tr th:only-of-type {\n",
       "        vertical-align: middle;\n",
       "    }\n",
       "\n",
       "    .dataframe tbody tr th {\n",
       "        vertical-align: top;\n",
       "    }\n",
       "\n",
       "    .dataframe thead th {\n",
       "        text-align: right;\n",
       "    }\n",
       "</style>\n",
       "<table border=\"1\" class=\"dataframe\">\n",
       "  <thead>\n",
       "    <tr style=\"text-align: right;\">\n",
       "      <th></th>\n",
       "      <th>Index</th>\n",
       "      <th>Age</th>\n",
       "      <th>Salary</th>\n",
       "      <th>Rating</th>\n",
       "      <th>Location</th>\n",
       "      <th>Established</th>\n",
       "      <th>Easy Apply</th>\n",
       "    </tr>\n",
       "  </thead>\n",
       "  <tbody>\n",
       "    <tr>\n",
       "      <th>0</th>\n",
       "      <td>0</td>\n",
       "      <td>44.0</td>\n",
       "      <td>$44k-$99k</td>\n",
       "      <td>5.4</td>\n",
       "      <td>India,In</td>\n",
       "      <td>1999</td>\n",
       "      <td>TRUE</td>\n",
       "    </tr>\n",
       "    <tr>\n",
       "      <th>1</th>\n",
       "      <td>1</td>\n",
       "      <td>66.0</td>\n",
       "      <td>$55k-$66k</td>\n",
       "      <td>3.5</td>\n",
       "      <td>New York,Ny</td>\n",
       "      <td>2002</td>\n",
       "      <td>TRUE</td>\n",
       "    </tr>\n",
       "    <tr>\n",
       "      <th>2</th>\n",
       "      <td>2</td>\n",
       "      <td>NaN</td>\n",
       "      <td>$77k-$89k</td>\n",
       "      <td>-1.0</td>\n",
       "      <td>New York,Ny</td>\n",
       "      <td>-1</td>\n",
       "      <td>-1</td>\n",
       "    </tr>\n",
       "    <tr>\n",
       "      <th>3</th>\n",
       "      <td>3</td>\n",
       "      <td>64.0</td>\n",
       "      <td>$44k-$99k</td>\n",
       "      <td>4.4</td>\n",
       "      <td>India In</td>\n",
       "      <td>1988</td>\n",
       "      <td>-1</td>\n",
       "    </tr>\n",
       "    <tr>\n",
       "      <th>4</th>\n",
       "      <td>4</td>\n",
       "      <td>25.0</td>\n",
       "      <td>$44k-$99k</td>\n",
       "      <td>6.4</td>\n",
       "      <td>Australia Aus</td>\n",
       "      <td>2002</td>\n",
       "      <td>-1</td>\n",
       "    </tr>\n",
       "  </tbody>\n",
       "</table>\n",
       "</div>"
      ],
      "text/plain": [
       "   Index   Age     Salary  Rating       Location  Established Easy Apply\n",
       "0      0  44.0  $44k-$99k     5.4       India,In         1999       TRUE\n",
       "1      1  66.0  $55k-$66k     3.5    New York,Ny         2002       TRUE\n",
       "2      2   NaN  $77k-$89k    -1.0    New York,Ny           -1         -1\n",
       "3      3  64.0  $44k-$99k     4.4       India In         1988         -1\n",
       "4      4  25.0  $44k-$99k     6.4  Australia Aus         2002         -1"
      ]
     },
     "execution_count": 3,
     "metadata": {},
     "output_type": "execute_result"
    }
   ],
   "source": [
    "df.head()"
   ]
  },
  {
   "cell_type": "code",
   "execution_count": 4,
   "id": "582c910c",
   "metadata": {},
   "outputs": [
    {
     "data": {
      "text/html": [
       "<div>\n",
       "<style scoped>\n",
       "    .dataframe tbody tr th:only-of-type {\n",
       "        vertical-align: middle;\n",
       "    }\n",
       "\n",
       "    .dataframe tbody tr th {\n",
       "        vertical-align: top;\n",
       "    }\n",
       "\n",
       "    .dataframe thead th {\n",
       "        text-align: right;\n",
       "    }\n",
       "</style>\n",
       "<table border=\"1\" class=\"dataframe\">\n",
       "  <thead>\n",
       "    <tr style=\"text-align: right;\">\n",
       "      <th></th>\n",
       "      <th>Index</th>\n",
       "      <th>Age</th>\n",
       "      <th>Salary</th>\n",
       "      <th>Rating</th>\n",
       "      <th>Location</th>\n",
       "      <th>Established</th>\n",
       "      <th>Easy Apply</th>\n",
       "    </tr>\n",
       "  </thead>\n",
       "  <tbody>\n",
       "    <tr>\n",
       "      <th>24</th>\n",
       "      <td>24</td>\n",
       "      <td>13.0</td>\n",
       "      <td>$44k-$99k</td>\n",
       "      <td>-1.0</td>\n",
       "      <td>New York,Ny</td>\n",
       "      <td>1987</td>\n",
       "      <td>-1</td>\n",
       "    </tr>\n",
       "    <tr>\n",
       "      <th>25</th>\n",
       "      <td>25</td>\n",
       "      <td>55.0</td>\n",
       "      <td>$44k-$99k</td>\n",
       "      <td>0.0</td>\n",
       "      <td>Australia Aus</td>\n",
       "      <td>1980</td>\n",
       "      <td>TRUE</td>\n",
       "    </tr>\n",
       "    <tr>\n",
       "      <th>26</th>\n",
       "      <td>26</td>\n",
       "      <td>NaN</td>\n",
       "      <td>$55k-$66k</td>\n",
       "      <td>NaN</td>\n",
       "      <td>India,In</td>\n",
       "      <td>1934</td>\n",
       "      <td>TRUE</td>\n",
       "    </tr>\n",
       "    <tr>\n",
       "      <th>27</th>\n",
       "      <td>27</td>\n",
       "      <td>52.0</td>\n",
       "      <td>$44k-$99k</td>\n",
       "      <td>5.4</td>\n",
       "      <td>India,In</td>\n",
       "      <td>1935</td>\n",
       "      <td>-1</td>\n",
       "    </tr>\n",
       "    <tr>\n",
       "      <th>28</th>\n",
       "      <td>28</td>\n",
       "      <td>NaN</td>\n",
       "      <td>$39k-$88k</td>\n",
       "      <td>3.4</td>\n",
       "      <td>Australia Aus</td>\n",
       "      <td>1932</td>\n",
       "      <td>-1</td>\n",
       "    </tr>\n",
       "  </tbody>\n",
       "</table>\n",
       "</div>"
      ],
      "text/plain": [
       "    Index   Age     Salary  Rating       Location  Established Easy Apply\n",
       "24     24  13.0  $44k-$99k    -1.0    New York,Ny         1987         -1\n",
       "25     25  55.0  $44k-$99k     0.0  Australia Aus         1980       TRUE\n",
       "26     26   NaN  $55k-$66k     NaN       India,In         1934       TRUE\n",
       "27     27  52.0  $44k-$99k     5.4       India,In         1935         -1\n",
       "28     28   NaN  $39k-$88k     3.4  Australia Aus         1932         -1"
      ]
     },
     "execution_count": 4,
     "metadata": {},
     "output_type": "execute_result"
    }
   ],
   "source": [
    "df.tail()"
   ]
  },
  {
   "cell_type": "code",
   "execution_count": 5,
   "id": "db880be7",
   "metadata": {},
   "outputs": [
    {
     "data": {
      "text/plain": [
       "(29, 7)"
      ]
     },
     "execution_count": 5,
     "metadata": {},
     "output_type": "execute_result"
    }
   ],
   "source": [
    "df.shape"
   ]
  },
  {
   "cell_type": "code",
   "execution_count": 6,
   "id": "5a99ff37",
   "metadata": {},
   "outputs": [
    {
     "name": "stdout",
     "output_type": "stream",
     "text": [
      "<class 'pandas.core.frame.DataFrame'>\n",
      "RangeIndex: 29 entries, 0 to 28\n",
      "Data columns (total 7 columns):\n",
      " #   Column       Non-Null Count  Dtype  \n",
      "---  ------       --------------  -----  \n",
      " 0   Index        29 non-null     int64  \n",
      " 1   Age          22 non-null     float64\n",
      " 2   Salary       29 non-null     object \n",
      " 3   Rating       28 non-null     float64\n",
      " 4   Location     29 non-null     object \n",
      " 5   Established  29 non-null     int64  \n",
      " 6   Easy Apply   29 non-null     object \n",
      "dtypes: float64(2), int64(2), object(3)\n",
      "memory usage: 1.7+ KB\n"
     ]
    }
   ],
   "source": [
    "df.info()"
   ]
  },
  {
   "cell_type": "code",
   "execution_count": 7,
   "id": "188e67a2",
   "metadata": {},
   "outputs": [
    {
     "data": {
      "text/plain": [
       "Index          0\n",
       "Age            7\n",
       "Salary         0\n",
       "Rating         1\n",
       "Location       0\n",
       "Established    0\n",
       "Easy Apply     0\n",
       "dtype: int64"
      ]
     },
     "execution_count": 7,
     "metadata": {},
     "output_type": "execute_result"
    }
   ],
   "source": [
    "# null values\n",
    "df.isnull().sum()"
   ]
  },
  {
   "cell_type": "code",
   "execution_count": 8,
   "id": "a6fd998a",
   "metadata": {},
   "outputs": [
    {
     "name": "stdout",
     "output_type": "stream",
     "text": [
      "total number of null values in data:  8\n"
     ]
    }
   ],
   "source": [
    "print(\"total number of null values in data: \", df.isnull().sum().sum())"
   ]
  },
  {
   "cell_type": "code",
   "execution_count": 9,
   "id": "1197034e",
   "metadata": {},
   "outputs": [
    {
     "data": {
      "text/plain": [
       "Index(['Index', 'Age', 'Salary', 'Rating', 'Location', 'Established',\n",
       "       'Easy Apply'],\n",
       "      dtype='object')"
      ]
     },
     "execution_count": 9,
     "metadata": {},
     "output_type": "execute_result"
    }
   ],
   "source": [
    "# fix columns \n",
    "df.columns"
   ]
  },
  {
   "cell_type": "code",
   "execution_count": 10,
   "id": "65379305",
   "metadata": {},
   "outputs": [
    {
     "data": {
      "text/plain": [
       "Index(['index', 'age', 'salary', 'rating', 'location', 'established',\n",
       "       'easy_apply'],\n",
       "      dtype='object')"
      ]
     },
     "execution_count": 10,
     "metadata": {},
     "output_type": "execute_result"
    }
   ],
   "source": [
    "df.columns = df.columns.str.lower().str.replace(\" \", \"_\")\n",
    "df.columns\n"
   ]
  },
  {
   "cell_type": "code",
   "execution_count": 11,
   "id": "9d7e34c9",
   "metadata": {},
   "outputs": [
    {
     "name": "stdout",
     "output_type": "stream",
     "text": [
      "39.04545454545455\n",
      "0\n"
     ]
    }
   ],
   "source": [
    "# fixing Age\n",
    "print(df.age.mean())\n",
    "df['age']= df.age.fillna(df.age.mean())\n",
    "df['age']= df.age.round(decimals=1)\n",
    "print(df.age.isnull().sum())"
   ]
  },
  {
   "cell_type": "code",
   "execution_count": 12,
   "id": "b87ab16c",
   "metadata": {},
   "outputs": [
    {
     "data": {
      "text/html": [
       "<div>\n",
       "<style scoped>\n",
       "    .dataframe tbody tr th:only-of-type {\n",
       "        vertical-align: middle;\n",
       "    }\n",
       "\n",
       "    .dataframe tbody tr th {\n",
       "        vertical-align: top;\n",
       "    }\n",
       "\n",
       "    .dataframe thead th {\n",
       "        text-align: right;\n",
       "    }\n",
       "</style>\n",
       "<table border=\"1\" class=\"dataframe\">\n",
       "  <thead>\n",
       "    <tr style=\"text-align: right;\">\n",
       "      <th></th>\n",
       "      <th>index</th>\n",
       "      <th>age</th>\n",
       "      <th>salary</th>\n",
       "      <th>rating</th>\n",
       "      <th>location</th>\n",
       "      <th>established</th>\n",
       "      <th>easy_apply</th>\n",
       "    </tr>\n",
       "  </thead>\n",
       "  <tbody>\n",
       "    <tr>\n",
       "      <th>0</th>\n",
       "      <td>0</td>\n",
       "      <td>44.0</td>\n",
       "      <td>$44k-$99k</td>\n",
       "      <td>5.4</td>\n",
       "      <td>India,In</td>\n",
       "      <td>1999</td>\n",
       "      <td>TRUE</td>\n",
       "    </tr>\n",
       "    <tr>\n",
       "      <th>1</th>\n",
       "      <td>1</td>\n",
       "      <td>66.0</td>\n",
       "      <td>$55k-$66k</td>\n",
       "      <td>3.5</td>\n",
       "      <td>New York,Ny</td>\n",
       "      <td>2002</td>\n",
       "      <td>TRUE</td>\n",
       "    </tr>\n",
       "    <tr>\n",
       "      <th>2</th>\n",
       "      <td>2</td>\n",
       "      <td>39.0</td>\n",
       "      <td>$77k-$89k</td>\n",
       "      <td>-1.0</td>\n",
       "      <td>New York,Ny</td>\n",
       "      <td>-1</td>\n",
       "      <td>-1</td>\n",
       "    </tr>\n",
       "    <tr>\n",
       "      <th>3</th>\n",
       "      <td>3</td>\n",
       "      <td>64.0</td>\n",
       "      <td>$44k-$99k</td>\n",
       "      <td>4.4</td>\n",
       "      <td>India In</td>\n",
       "      <td>1988</td>\n",
       "      <td>-1</td>\n",
       "    </tr>\n",
       "    <tr>\n",
       "      <th>4</th>\n",
       "      <td>4</td>\n",
       "      <td>25.0</td>\n",
       "      <td>$44k-$99k</td>\n",
       "      <td>6.4</td>\n",
       "      <td>Australia Aus</td>\n",
       "      <td>2002</td>\n",
       "      <td>-1</td>\n",
       "    </tr>\n",
       "  </tbody>\n",
       "</table>\n",
       "</div>"
      ],
      "text/plain": [
       "   index   age     salary  rating       location  established easy_apply\n",
       "0      0  44.0  $44k-$99k     5.4       India,In         1999       TRUE\n",
       "1      1  66.0  $55k-$66k     3.5    New York,Ny         2002       TRUE\n",
       "2      2  39.0  $77k-$89k    -1.0    New York,Ny           -1         -1\n",
       "3      3  64.0  $44k-$99k     4.4       India In         1988         -1\n",
       "4      4  25.0  $44k-$99k     6.4  Australia Aus         2002         -1"
      ]
     },
     "execution_count": 12,
     "metadata": {},
     "output_type": "execute_result"
    }
   ],
   "source": [
    "df.head()"
   ]
  },
  {
   "cell_type": "code",
   "execution_count": 13,
   "id": "be22c965",
   "metadata": {},
   "outputs": [],
   "source": [
    "# Clean established column\n",
    "df[\"established\"] = df[\"established\"].replace(-1,np.nan)\n",
    "df[\"established\"].fillna('unknown', inplace=True)"
   ]
  },
  {
   "cell_type": "code",
   "execution_count": 14,
   "id": "1a7d651c",
   "metadata": {},
   "outputs": [
    {
     "data": {
      "text/plain": [
       "<bound method NDFrame.astype of 0          India,In\n",
       "1       New York,Ny\n",
       "2       New York,Ny\n",
       "3          India In\n",
       "4     Australia Aus\n",
       "5          India,In\n",
       "6       New York,Ny\n",
       "7     Australia Aus\n",
       "8       New York,Ny\n",
       "9          India,In\n",
       "10         India,In\n",
       "11         India,In\n",
       "12         India,In\n",
       "13    Australia Aus\n",
       "14    Australia Aus\n",
       "15    Australia Aus\n",
       "16         India,In\n",
       "17      New York,Ny\n",
       "18      New York,Ny\n",
       "19      New York,Ny\n",
       "20      New York,Ny\n",
       "21      New York,Ny\n",
       "22      New York,Ny\n",
       "23      New York,Ny\n",
       "24      New York,Ny\n",
       "25    Australia Aus\n",
       "26         India,In\n",
       "27         India,In\n",
       "28    Australia Aus\n",
       "Name: location, dtype: object>"
      ]
     },
     "execution_count": 14,
     "metadata": {},
     "output_type": "execute_result"
    }
   ],
   "source": [
    "#location column\n",
    "df.location.astype"
   ]
  },
  {
   "cell_type": "code",
   "execution_count": 15,
   "id": "1e029c12",
   "metadata": {},
   "outputs": [],
   "source": [
    "df['location']= df['location'].str.replace(\"Australia Aus\",\"Australia, Aus\")\n",
    "df['location_city'] = df['location'].str.split(\",\", expand=True).get(0)\n",
    "df['city_sign'] = df['location'].str.split(\",\", expand=True).get(1)\n",
    "df.drop('location', inplace=True, axis=1)"
   ]
  },
  {
   "cell_type": "code",
   "execution_count": 16,
   "id": "133b7b90",
   "metadata": {},
   "outputs": [],
   "source": [
    "#rating column\n",
    "df['rating'] = df[\"rating\"].replace(-1,np.nan)\n",
    "\n",
    "df['rating']= df[\"rating\"].fillna(df['rating'].mean()).round(decimals=1)"
   ]
  },
  {
   "cell_type": "code",
   "execution_count": 17,
   "id": "040d99d6",
   "metadata": {},
   "outputs": [],
   "source": [
    "# Easy Apply\n",
    "df['easy_apply'] = df['easy_apply'].replace(\"-1\",\"True\")"
   ]
  },
  {
   "cell_type": "code",
   "execution_count": 18,
   "id": "9df479b5",
   "metadata": {},
   "outputs": [],
   "source": [
    "#salary Column\n",
    "df['salary'].iloc[0]\n",
    "\n",
    "df['salary'] = df['salary'].apply(lambda x:x.replace(\"$\",''))\n",
    "df['salary'] = df['salary'].apply(lambda x:x.replace(\"k\",''))"
   ]
  },
  {
   "cell_type": "code",
   "execution_count": 19,
   "id": "4bcfd5c7",
   "metadata": {},
   "outputs": [
    {
     "data": {
      "text/html": [
       "<div>\n",
       "<style scoped>\n",
       "    .dataframe tbody tr th:only-of-type {\n",
       "        vertical-align: middle;\n",
       "    }\n",
       "\n",
       "    .dataframe tbody tr th {\n",
       "        vertical-align: top;\n",
       "    }\n",
       "\n",
       "    .dataframe thead th {\n",
       "        text-align: right;\n",
       "    }\n",
       "</style>\n",
       "<table border=\"1\" class=\"dataframe\">\n",
       "  <thead>\n",
       "    <tr style=\"text-align: right;\">\n",
       "      <th></th>\n",
       "      <th>index</th>\n",
       "      <th>age</th>\n",
       "      <th>salary</th>\n",
       "      <th>rating</th>\n",
       "      <th>established</th>\n",
       "      <th>easy_apply</th>\n",
       "      <th>location_city</th>\n",
       "      <th>city_sign</th>\n",
       "    </tr>\n",
       "  </thead>\n",
       "  <tbody>\n",
       "    <tr>\n",
       "      <th>0</th>\n",
       "      <td>0</td>\n",
       "      <td>44.0</td>\n",
       "      <td>44-99</td>\n",
       "      <td>5.4</td>\n",
       "      <td>1999.0</td>\n",
       "      <td>TRUE</td>\n",
       "      <td>India</td>\n",
       "      <td>In</td>\n",
       "    </tr>\n",
       "    <tr>\n",
       "      <th>1</th>\n",
       "      <td>1</td>\n",
       "      <td>66.0</td>\n",
       "      <td>55-66</td>\n",
       "      <td>3.5</td>\n",
       "      <td>2002.0</td>\n",
       "      <td>TRUE</td>\n",
       "      <td>New York</td>\n",
       "      <td>Ny</td>\n",
       "    </tr>\n",
       "    <tr>\n",
       "      <th>2</th>\n",
       "      <td>2</td>\n",
       "      <td>39.0</td>\n",
       "      <td>77-89</td>\n",
       "      <td>4.3</td>\n",
       "      <td>unknown</td>\n",
       "      <td>True</td>\n",
       "      <td>New York</td>\n",
       "      <td>Ny</td>\n",
       "    </tr>\n",
       "    <tr>\n",
       "      <th>3</th>\n",
       "      <td>3</td>\n",
       "      <td>64.0</td>\n",
       "      <td>44-99</td>\n",
       "      <td>4.4</td>\n",
       "      <td>1988.0</td>\n",
       "      <td>True</td>\n",
       "      <td>India In</td>\n",
       "      <td>None</td>\n",
       "    </tr>\n",
       "    <tr>\n",
       "      <th>4</th>\n",
       "      <td>4</td>\n",
       "      <td>25.0</td>\n",
       "      <td>44-99</td>\n",
       "      <td>6.4</td>\n",
       "      <td>2002.0</td>\n",
       "      <td>True</td>\n",
       "      <td>Australia</td>\n",
       "      <td>Aus</td>\n",
       "    </tr>\n",
       "    <tr>\n",
       "      <th>5</th>\n",
       "      <td>5</td>\n",
       "      <td>44.0</td>\n",
       "      <td>77-89</td>\n",
       "      <td>1.4</td>\n",
       "      <td>1999.0</td>\n",
       "      <td>TRUE</td>\n",
       "      <td>India</td>\n",
       "      <td>In</td>\n",
       "    </tr>\n",
       "    <tr>\n",
       "      <th>6</th>\n",
       "      <td>6</td>\n",
       "      <td>21.0</td>\n",
       "      <td>44-99</td>\n",
       "      <td>0.0</td>\n",
       "      <td>unknown</td>\n",
       "      <td>True</td>\n",
       "      <td>New York</td>\n",
       "      <td>Ny</td>\n",
       "    </tr>\n",
       "    <tr>\n",
       "      <th>7</th>\n",
       "      <td>7</td>\n",
       "      <td>44.0</td>\n",
       "      <td>44-99</td>\n",
       "      <td>4.3</td>\n",
       "      <td>unknown</td>\n",
       "      <td>True</td>\n",
       "      <td>Australia</td>\n",
       "      <td>Aus</td>\n",
       "    </tr>\n",
       "    <tr>\n",
       "      <th>8</th>\n",
       "      <td>8</td>\n",
       "      <td>35.0</td>\n",
       "      <td>44-99</td>\n",
       "      <td>5.4</td>\n",
       "      <td>unknown</td>\n",
       "      <td>True</td>\n",
       "      <td>New York</td>\n",
       "      <td>Ny</td>\n",
       "    </tr>\n",
       "    <tr>\n",
       "      <th>9</th>\n",
       "      <td>9</td>\n",
       "      <td>22.0</td>\n",
       "      <td>44-99</td>\n",
       "      <td>7.7</td>\n",
       "      <td>unknown</td>\n",
       "      <td>TRUE</td>\n",
       "      <td>India</td>\n",
       "      <td>In</td>\n",
       "    </tr>\n",
       "    <tr>\n",
       "      <th>10</th>\n",
       "      <td>10</td>\n",
       "      <td>55.0</td>\n",
       "      <td>10-49</td>\n",
       "      <td>5.4</td>\n",
       "      <td>2008.0</td>\n",
       "      <td>TRUE</td>\n",
       "      <td>India</td>\n",
       "      <td>In</td>\n",
       "    </tr>\n",
       "    <tr>\n",
       "      <th>11</th>\n",
       "      <td>11</td>\n",
       "      <td>44.0</td>\n",
       "      <td>10-49</td>\n",
       "      <td>6.7</td>\n",
       "      <td>2009.0</td>\n",
       "      <td>True</td>\n",
       "      <td>India</td>\n",
       "      <td>In</td>\n",
       "    </tr>\n",
       "    <tr>\n",
       "      <th>12</th>\n",
       "      <td>12</td>\n",
       "      <td>39.0</td>\n",
       "      <td>44-99</td>\n",
       "      <td>0.0</td>\n",
       "      <td>1999.0</td>\n",
       "      <td>True</td>\n",
       "      <td>India</td>\n",
       "      <td>In</td>\n",
       "    </tr>\n",
       "    <tr>\n",
       "      <th>13</th>\n",
       "      <td>13</td>\n",
       "      <td>25.0</td>\n",
       "      <td>44-99</td>\n",
       "      <td>4.3</td>\n",
       "      <td>2019.0</td>\n",
       "      <td>TRUE</td>\n",
       "      <td>Australia</td>\n",
       "      <td>Aus</td>\n",
       "    </tr>\n",
       "    <tr>\n",
       "      <th>14</th>\n",
       "      <td>14</td>\n",
       "      <td>66.0</td>\n",
       "      <td>44-99</td>\n",
       "      <td>4.0</td>\n",
       "      <td>2020.0</td>\n",
       "      <td>TRUE</td>\n",
       "      <td>Australia</td>\n",
       "      <td>Aus</td>\n",
       "    </tr>\n",
       "    <tr>\n",
       "      <th>15</th>\n",
       "      <td>15</td>\n",
       "      <td>44.0</td>\n",
       "      <td>88-101</td>\n",
       "      <td>3.0</td>\n",
       "      <td>1999.0</td>\n",
       "      <td>True</td>\n",
       "      <td>Australia</td>\n",
       "      <td>Aus</td>\n",
       "    </tr>\n",
       "    <tr>\n",
       "      <th>16</th>\n",
       "      <td>16</td>\n",
       "      <td>19.0</td>\n",
       "      <td>19-40</td>\n",
       "      <td>4.5</td>\n",
       "      <td>1984.0</td>\n",
       "      <td>True</td>\n",
       "      <td>India</td>\n",
       "      <td>In</td>\n",
       "    </tr>\n",
       "    <tr>\n",
       "      <th>17</th>\n",
       "      <td>17</td>\n",
       "      <td>39.0</td>\n",
       "      <td>44-99</td>\n",
       "      <td>5.3</td>\n",
       "      <td>1943.0</td>\n",
       "      <td>TRUE</td>\n",
       "      <td>New York</td>\n",
       "      <td>Ny</td>\n",
       "    </tr>\n",
       "    <tr>\n",
       "      <th>18</th>\n",
       "      <td>18</td>\n",
       "      <td>35.0</td>\n",
       "      <td>44-99</td>\n",
       "      <td>6.7</td>\n",
       "      <td>1954.0</td>\n",
       "      <td>TRUE</td>\n",
       "      <td>New York</td>\n",
       "      <td>Ny</td>\n",
       "    </tr>\n",
       "    <tr>\n",
       "      <th>19</th>\n",
       "      <td>19</td>\n",
       "      <td>32.0</td>\n",
       "      <td>44-99</td>\n",
       "      <td>3.3</td>\n",
       "      <td>1955.0</td>\n",
       "      <td>TRUE</td>\n",
       "      <td>New York</td>\n",
       "      <td>Ny</td>\n",
       "    </tr>\n",
       "    <tr>\n",
       "      <th>20</th>\n",
       "      <td>20</td>\n",
       "      <td>39.0</td>\n",
       "      <td>44-99</td>\n",
       "      <td>5.7</td>\n",
       "      <td>1944.0</td>\n",
       "      <td>TRUE</td>\n",
       "      <td>New York</td>\n",
       "      <td>Ny</td>\n",
       "    </tr>\n",
       "    <tr>\n",
       "      <th>21</th>\n",
       "      <td>21</td>\n",
       "      <td>35.0</td>\n",
       "      <td>44-99</td>\n",
       "      <td>5.0</td>\n",
       "      <td>1946.0</td>\n",
       "      <td>True</td>\n",
       "      <td>New York</td>\n",
       "      <td>Ny</td>\n",
       "    </tr>\n",
       "    <tr>\n",
       "      <th>22</th>\n",
       "      <td>22</td>\n",
       "      <td>19.0</td>\n",
       "      <td>55-66</td>\n",
       "      <td>7.8</td>\n",
       "      <td>1988.0</td>\n",
       "      <td>TRUE</td>\n",
       "      <td>New York</td>\n",
       "      <td>Ny</td>\n",
       "    </tr>\n",
       "    <tr>\n",
       "      <th>23</th>\n",
       "      <td>23</td>\n",
       "      <td>39.0</td>\n",
       "      <td>44-99</td>\n",
       "      <td>2.4</td>\n",
       "      <td>1999.0</td>\n",
       "      <td>TRUE</td>\n",
       "      <td>New York</td>\n",
       "      <td>Ny</td>\n",
       "    </tr>\n",
       "    <tr>\n",
       "      <th>24</th>\n",
       "      <td>24</td>\n",
       "      <td>13.0</td>\n",
       "      <td>44-99</td>\n",
       "      <td>4.3</td>\n",
       "      <td>1987.0</td>\n",
       "      <td>True</td>\n",
       "      <td>New York</td>\n",
       "      <td>Ny</td>\n",
       "    </tr>\n",
       "    <tr>\n",
       "      <th>25</th>\n",
       "      <td>25</td>\n",
       "      <td>55.0</td>\n",
       "      <td>44-99</td>\n",
       "      <td>0.0</td>\n",
       "      <td>1980.0</td>\n",
       "      <td>TRUE</td>\n",
       "      <td>Australia</td>\n",
       "      <td>Aus</td>\n",
       "    </tr>\n",
       "    <tr>\n",
       "      <th>26</th>\n",
       "      <td>26</td>\n",
       "      <td>39.0</td>\n",
       "      <td>55-66</td>\n",
       "      <td>4.3</td>\n",
       "      <td>1934.0</td>\n",
       "      <td>TRUE</td>\n",
       "      <td>India</td>\n",
       "      <td>In</td>\n",
       "    </tr>\n",
       "    <tr>\n",
       "      <th>27</th>\n",
       "      <td>27</td>\n",
       "      <td>52.0</td>\n",
       "      <td>44-99</td>\n",
       "      <td>5.4</td>\n",
       "      <td>1935.0</td>\n",
       "      <td>True</td>\n",
       "      <td>India</td>\n",
       "      <td>In</td>\n",
       "    </tr>\n",
       "    <tr>\n",
       "      <th>28</th>\n",
       "      <td>28</td>\n",
       "      <td>39.0</td>\n",
       "      <td>39-88</td>\n",
       "      <td>3.4</td>\n",
       "      <td>1932.0</td>\n",
       "      <td>True</td>\n",
       "      <td>Australia</td>\n",
       "      <td>Aus</td>\n",
       "    </tr>\n",
       "  </tbody>\n",
       "</table>\n",
       "</div>"
      ],
      "text/plain": [
       "    index   age  salary  rating established easy_apply location_city city_sign\n",
       "0       0  44.0   44-99     5.4      1999.0       TRUE         India        In\n",
       "1       1  66.0   55-66     3.5      2002.0       TRUE      New York        Ny\n",
       "2       2  39.0   77-89     4.3     unknown       True      New York        Ny\n",
       "3       3  64.0   44-99     4.4      1988.0       True      India In      None\n",
       "4       4  25.0   44-99     6.4      2002.0       True     Australia       Aus\n",
       "5       5  44.0   77-89     1.4      1999.0       TRUE         India        In\n",
       "6       6  21.0   44-99     0.0     unknown       True      New York        Ny\n",
       "7       7  44.0   44-99     4.3     unknown       True     Australia       Aus\n",
       "8       8  35.0   44-99     5.4     unknown       True      New York        Ny\n",
       "9       9  22.0   44-99     7.7     unknown       TRUE         India        In\n",
       "10     10  55.0   10-49     5.4      2008.0       TRUE         India        In\n",
       "11     11  44.0   10-49     6.7      2009.0       True         India        In\n",
       "12     12  39.0   44-99     0.0      1999.0       True         India        In\n",
       "13     13  25.0   44-99     4.3      2019.0       TRUE     Australia       Aus\n",
       "14     14  66.0   44-99     4.0      2020.0       TRUE     Australia       Aus\n",
       "15     15  44.0  88-101     3.0      1999.0       True     Australia       Aus\n",
       "16     16  19.0   19-40     4.5      1984.0       True         India        In\n",
       "17     17  39.0   44-99     5.3      1943.0       TRUE      New York        Ny\n",
       "18     18  35.0   44-99     6.7      1954.0       TRUE      New York        Ny\n",
       "19     19  32.0   44-99     3.3      1955.0       TRUE      New York        Ny\n",
       "20     20  39.0   44-99     5.7      1944.0       TRUE      New York        Ny\n",
       "21     21  35.0   44-99     5.0      1946.0       True      New York        Ny\n",
       "22     22  19.0   55-66     7.8      1988.0       TRUE      New York        Ny\n",
       "23     23  39.0   44-99     2.4      1999.0       TRUE      New York        Ny\n",
       "24     24  13.0   44-99     4.3      1987.0       True      New York        Ny\n",
       "25     25  55.0   44-99     0.0      1980.0       TRUE     Australia       Aus\n",
       "26     26  39.0   55-66     4.3      1934.0       TRUE         India        In\n",
       "27     27  52.0   44-99     5.4      1935.0       True         India        In\n",
       "28     28  39.0   39-88     3.4      1932.0       True     Australia       Aus"
      ]
     },
     "execution_count": 19,
     "metadata": {},
     "output_type": "execute_result"
    }
   ],
   "source": [
    "df"
   ]
  },
  {
   "cell_type": "code",
   "execution_count": null,
   "id": "c4386625",
   "metadata": {},
   "outputs": [],
   "source": []
  },
  {
   "cell_type": "code",
   "execution_count": null,
   "id": "2b951d6a",
   "metadata": {},
   "outputs": [],
   "source": []
  },
  {
   "cell_type": "code",
   "execution_count": 20,
   "id": "996da0c9",
   "metadata": {},
   "outputs": [],
   "source": [
    "      ##### Chipotle ####"
   ]
  },
  {
   "cell_type": "code",
   "execution_count": 21,
   "id": "c7c9018f",
   "metadata": {},
   "outputs": [],
   "source": [
    "import pandas as pd\n",
    "import numpy as np\n"
   ]
  },
  {
   "cell_type": "code",
   "execution_count": 22,
   "id": "4a13c40c",
   "metadata": {},
   "outputs": [],
   "source": [
    "# loading data\n",
    "df = pd.read_csv(\"D:\\IMP DOC\\chipotle.tsv\",sep='\\t')"
   ]
  },
  {
   "cell_type": "code",
   "execution_count": 23,
   "id": "cf7285a8",
   "metadata": {},
   "outputs": [],
   "source": [
    "# DATA OVERVIEW"
   ]
  },
  {
   "cell_type": "code",
   "execution_count": 24,
   "id": "c8c9f79d",
   "metadata": {},
   "outputs": [
    {
     "data": {
      "text/html": [
       "<div>\n",
       "<style scoped>\n",
       "    .dataframe tbody tr th:only-of-type {\n",
       "        vertical-align: middle;\n",
       "    }\n",
       "\n",
       "    .dataframe tbody tr th {\n",
       "        vertical-align: top;\n",
       "    }\n",
       "\n",
       "    .dataframe thead th {\n",
       "        text-align: right;\n",
       "    }\n",
       "</style>\n",
       "<table border=\"1\" class=\"dataframe\">\n",
       "  <thead>\n",
       "    <tr style=\"text-align: right;\">\n",
       "      <th></th>\n",
       "      <th>order_id</th>\n",
       "      <th>quantity</th>\n",
       "      <th>item_name</th>\n",
       "      <th>choice_description</th>\n",
       "      <th>item_price</th>\n",
       "    </tr>\n",
       "  </thead>\n",
       "  <tbody>\n",
       "    <tr>\n",
       "      <th>0</th>\n",
       "      <td>1</td>\n",
       "      <td>1</td>\n",
       "      <td>Chips and Fresh Tomato Salsa</td>\n",
       "      <td>NaN</td>\n",
       "      <td>$2.39</td>\n",
       "    </tr>\n",
       "    <tr>\n",
       "      <th>1</th>\n",
       "      <td>1</td>\n",
       "      <td>1</td>\n",
       "      <td>Izze</td>\n",
       "      <td>[Clementine]</td>\n",
       "      <td>$3.39</td>\n",
       "    </tr>\n",
       "    <tr>\n",
       "      <th>2</th>\n",
       "      <td>1</td>\n",
       "      <td>1</td>\n",
       "      <td>Nantucket Nectar</td>\n",
       "      <td>[Apple]</td>\n",
       "      <td>$3.39</td>\n",
       "    </tr>\n",
       "    <tr>\n",
       "      <th>3</th>\n",
       "      <td>1</td>\n",
       "      <td>1</td>\n",
       "      <td>Chips and Tomatillo-Green Chili Salsa</td>\n",
       "      <td>NaN</td>\n",
       "      <td>$2.39</td>\n",
       "    </tr>\n",
       "    <tr>\n",
       "      <th>4</th>\n",
       "      <td>2</td>\n",
       "      <td>2</td>\n",
       "      <td>Chicken Bowl</td>\n",
       "      <td>[Tomatillo-Red Chili Salsa (Hot), [Black Beans...</td>\n",
       "      <td>$16.98</td>\n",
       "    </tr>\n",
       "  </tbody>\n",
       "</table>\n",
       "</div>"
      ],
      "text/plain": [
       "   order_id  quantity                              item_name  \\\n",
       "0         1         1           Chips and Fresh Tomato Salsa   \n",
       "1         1         1                                   Izze   \n",
       "2         1         1                       Nantucket Nectar   \n",
       "3         1         1  Chips and Tomatillo-Green Chili Salsa   \n",
       "4         2         2                           Chicken Bowl   \n",
       "\n",
       "                                  choice_description item_price  \n",
       "0                                                NaN     $2.39   \n",
       "1                                       [Clementine]     $3.39   \n",
       "2                                            [Apple]     $3.39   \n",
       "3                                                NaN     $2.39   \n",
       "4  [Tomatillo-Red Chili Salsa (Hot), [Black Beans...    $16.98   "
      ]
     },
     "execution_count": 24,
     "metadata": {},
     "output_type": "execute_result"
    }
   ],
   "source": [
    "df.head()"
   ]
  },
  {
   "cell_type": "code",
   "execution_count": 25,
   "id": "9d835e58",
   "metadata": {},
   "outputs": [
    {
     "data": {
      "text/html": [
       "<div>\n",
       "<style scoped>\n",
       "    .dataframe tbody tr th:only-of-type {\n",
       "        vertical-align: middle;\n",
       "    }\n",
       "\n",
       "    .dataframe tbody tr th {\n",
       "        vertical-align: top;\n",
       "    }\n",
       "\n",
       "    .dataframe thead th {\n",
       "        text-align: right;\n",
       "    }\n",
       "</style>\n",
       "<table border=\"1\" class=\"dataframe\">\n",
       "  <thead>\n",
       "    <tr style=\"text-align: right;\">\n",
       "      <th></th>\n",
       "      <th>order_id</th>\n",
       "      <th>quantity</th>\n",
       "      <th>item_name</th>\n",
       "      <th>choice_description</th>\n",
       "      <th>item_price</th>\n",
       "    </tr>\n",
       "  </thead>\n",
       "  <tbody>\n",
       "    <tr>\n",
       "      <th>4617</th>\n",
       "      <td>1833</td>\n",
       "      <td>1</td>\n",
       "      <td>Steak Burrito</td>\n",
       "      <td>[Fresh Tomato Salsa, [Rice, Black Beans, Sour ...</td>\n",
       "      <td>$11.75</td>\n",
       "    </tr>\n",
       "    <tr>\n",
       "      <th>4618</th>\n",
       "      <td>1833</td>\n",
       "      <td>1</td>\n",
       "      <td>Steak Burrito</td>\n",
       "      <td>[Fresh Tomato Salsa, [Rice, Sour Cream, Cheese...</td>\n",
       "      <td>$11.75</td>\n",
       "    </tr>\n",
       "    <tr>\n",
       "      <th>4619</th>\n",
       "      <td>1834</td>\n",
       "      <td>1</td>\n",
       "      <td>Chicken Salad Bowl</td>\n",
       "      <td>[Fresh Tomato Salsa, [Fajita Vegetables, Pinto...</td>\n",
       "      <td>$11.25</td>\n",
       "    </tr>\n",
       "    <tr>\n",
       "      <th>4620</th>\n",
       "      <td>1834</td>\n",
       "      <td>1</td>\n",
       "      <td>Chicken Salad Bowl</td>\n",
       "      <td>[Fresh Tomato Salsa, [Fajita Vegetables, Lettu...</td>\n",
       "      <td>$8.75</td>\n",
       "    </tr>\n",
       "    <tr>\n",
       "      <th>4621</th>\n",
       "      <td>1834</td>\n",
       "      <td>1</td>\n",
       "      <td>Chicken Salad Bowl</td>\n",
       "      <td>[Fresh Tomato Salsa, [Fajita Vegetables, Pinto...</td>\n",
       "      <td>$8.75</td>\n",
       "    </tr>\n",
       "  </tbody>\n",
       "</table>\n",
       "</div>"
      ],
      "text/plain": [
       "      order_id  quantity           item_name  \\\n",
       "4617      1833         1       Steak Burrito   \n",
       "4618      1833         1       Steak Burrito   \n",
       "4619      1834         1  Chicken Salad Bowl   \n",
       "4620      1834         1  Chicken Salad Bowl   \n",
       "4621      1834         1  Chicken Salad Bowl   \n",
       "\n",
       "                                     choice_description item_price  \n",
       "4617  [Fresh Tomato Salsa, [Rice, Black Beans, Sour ...    $11.75   \n",
       "4618  [Fresh Tomato Salsa, [Rice, Sour Cream, Cheese...    $11.75   \n",
       "4619  [Fresh Tomato Salsa, [Fajita Vegetables, Pinto...    $11.25   \n",
       "4620  [Fresh Tomato Salsa, [Fajita Vegetables, Lettu...     $8.75   \n",
       "4621  [Fresh Tomato Salsa, [Fajita Vegetables, Pinto...     $8.75   "
      ]
     },
     "execution_count": 25,
     "metadata": {},
     "output_type": "execute_result"
    }
   ],
   "source": [
    "df.tail()"
   ]
  },
  {
   "cell_type": "code",
   "execution_count": 26,
   "id": "0a74ba72",
   "metadata": {},
   "outputs": [
    {
     "data": {
      "text/plain": [
       "(4622, 5)"
      ]
     },
     "execution_count": 26,
     "metadata": {},
     "output_type": "execute_result"
    }
   ],
   "source": [
    "df.shape"
   ]
  },
  {
   "cell_type": "code",
   "execution_count": 27,
   "id": "fd42a6af",
   "metadata": {},
   "outputs": [
    {
     "name": "stdout",
     "output_type": "stream",
     "text": [
      "<class 'pandas.core.frame.DataFrame'>\n",
      "RangeIndex: 4622 entries, 0 to 4621\n",
      "Data columns (total 5 columns):\n",
      " #   Column              Non-Null Count  Dtype \n",
      "---  ------              --------------  ----- \n",
      " 0   order_id            4622 non-null   int64 \n",
      " 1   quantity            4622 non-null   int64 \n",
      " 2   item_name           4622 non-null   object\n",
      " 3   choice_description  3376 non-null   object\n",
      " 4   item_price          4622 non-null   object\n",
      "dtypes: int64(2), object(3)\n",
      "memory usage: 180.7+ KB\n"
     ]
    }
   ],
   "source": [
    "df.info()"
   ]
  },
  {
   "cell_type": "code",
   "execution_count": 28,
   "id": "e6396293",
   "metadata": {},
   "outputs": [
    {
     "data": {
      "text/plain": [
       "Index(['order_id', 'quantity', 'item_name', 'choice_description',\n",
       "       'item_price'],\n",
       "      dtype='object')"
      ]
     },
     "execution_count": 28,
     "metadata": {},
     "output_type": "execute_result"
    }
   ],
   "source": [
    "df.columns"
   ]
  },
  {
   "cell_type": "code",
   "execution_count": null,
   "id": "37d9ea79",
   "metadata": {},
   "outputs": [],
   "source": [
    "#### Questions ###"
   ]
  },
  {
   "cell_type": "code",
   "execution_count": 29,
   "id": "bc5cbf29",
   "metadata": {},
   "outputs": [
    {
     "data": {
      "text/plain": [
       "Chicken Bowl                             726\n",
       "Chicken Burrito                          553\n",
       "Chips and Guacamole                      479\n",
       "Steak Burrito                            368\n",
       "Canned Soft Drink                        301\n",
       "Steak Bowl                               211\n",
       "Chips                                    211\n",
       "Bottled Water                            162\n",
       "Chicken Soft Tacos                       115\n",
       "Chips and Fresh Tomato Salsa             110\n",
       "Chicken Salad Bowl                       110\n",
       "Canned Soda                              104\n",
       "Side of Chips                            101\n",
       "Veggie Burrito                            95\n",
       "Barbacoa Burrito                          91\n",
       "Veggie Bowl                               85\n",
       "Carnitas Bowl                             68\n",
       "Barbacoa Bowl                             66\n",
       "Carnitas Burrito                          59\n",
       "Steak Soft Tacos                          55\n",
       "6 Pack Soft Drink                         54\n",
       "Chips and Tomatillo Red Chili Salsa       48\n",
       "Chicken Crispy Tacos                      47\n",
       "Chips and Tomatillo Green Chili Salsa     43\n",
       "Carnitas Soft Tacos                       40\n",
       "Steak Crispy Tacos                        35\n",
       "Chips and Tomatillo-Green Chili Salsa     31\n",
       "Steak Salad Bowl                          29\n",
       "Nantucket Nectar                          27\n",
       "Barbacoa Soft Tacos                       25\n",
       "Chips and Roasted Chili Corn Salsa        22\n",
       "Izze                                      20\n",
       "Chips and Tomatillo-Red Chili Salsa       20\n",
       "Veggie Salad Bowl                         18\n",
       "Chips and Roasted Chili-Corn Salsa        18\n",
       "Barbacoa Crispy Tacos                     11\n",
       "Barbacoa Salad Bowl                       10\n",
       "Chicken Salad                              9\n",
       "Veggie Soft Tacos                          7\n",
       "Carnitas Crispy Tacos                      7\n",
       "Veggie Salad                               6\n",
       "Carnitas Salad Bowl                        6\n",
       "Burrito                                    6\n",
       "Steak Salad                                4\n",
       "Crispy Tacos                               2\n",
       "Salad                                      2\n",
       "Bowl                                       2\n",
       "Chips and Mild Fresh Tomato Salsa          1\n",
       "Veggie Crispy Tacos                        1\n",
       "Carnitas Salad                             1\n",
       "Name: item_name, dtype: int64"
      ]
     },
     "execution_count": 29,
     "metadata": {},
     "output_type": "execute_result"
    }
   ],
   "source": [
    "#1. quantity of each item\n",
    "df['item_name'].value_counts()"
   ]
  },
  {
   "cell_type": "code",
   "execution_count": 31,
   "id": "f4fb71ec",
   "metadata": {},
   "outputs": [
    {
     "name": "stdout",
     "output_type": "stream",
     "text": [
      "The most ordered item is 'Cheese' with 1887 orders.\n"
     ]
    }
   ],
   "source": [
    "#2.What was the most ordered item in the choice_description column?\n",
    "\n",
    "choice_counts = df['choice_description'].str.split(', ').explode().value_counts()\n",
    "\n",
    "# Get the most ordered item\n",
    "most_ordered_item = choice_counts.idxmax()\n",
    "num_orders = choice_counts.max()\n",
    "\n",
    "print(f\"The most ordered item is '{most_ordered_item}' with {num_orders} orders.\")\n"
   ]
  },
  {
   "cell_type": "code",
   "execution_count": 32,
   "id": "933236ed",
   "metadata": {},
   "outputs": [
    {
     "name": "stdout",
     "output_type": "stream",
     "text": [
      "The total number of items ordered is 15754.\n"
     ]
    }
   ],
   "source": [
    "#3.How many items were ordered in total\n",
    "\n",
    "choice_counts = df['choice_description'].str.split(', ').explode().value_counts()\n",
    "\n",
    "# Get the total number of items ordered\n",
    "total_items_ordered = choice_counts.sum()\n",
    "\n",
    "print(f\"The total number of items ordered is {total_items_ordered}.\")\n"
   ]
  },
  {
   "cell_type": "code",
   "execution_count": 33,
   "id": "b613e566",
   "metadata": {},
   "outputs": [
    {
     "name": "stdout",
     "output_type": "stream",
     "text": [
      "The total revenue for the period is $39237.02.\n"
     ]
    },
    {
     "name": "stderr",
     "output_type": "stream",
     "text": [
      "C:\\Users\\ns118\\AppData\\Local\\Temp\\ipykernel_7904\\1808836055.py:3: FutureWarning: The default value of regex will change from True to False in a future version. In addition, single character regular expressions will *not* be treated as literal strings when regex=True.\n",
      "  df['item_price'] = df['item_price'].str.replace('$', '').astype(float)\n"
     ]
    }
   ],
   "source": [
    "#4.How much was the revenue for the period in the dataset?\n",
    "\n",
    "df['item_price'] = df['item_price'].str.replace('$', '').astype(float)\n",
    "\n",
    "# Calculate revenue for each item \n",
    "df['revenue'] = df['quantity'] * df['item_price']\n",
    "\n",
    "# Sum  the revenue \n",
    "total_revenue = df['revenue'].sum()\n",
    "\n",
    "print(f\"The total revenue for the period is ${total_revenue:.2f}.\")\n",
    "\n",
    "\n",
    "\n"
   ]
  },
  {
   "cell_type": "code",
   "execution_count": 34,
   "id": "708a58f0",
   "metadata": {},
   "outputs": [
    {
     "name": "stdout",
     "output_type": "stream",
     "text": [
      "The total number of orders made in the period is 1834.\n"
     ]
    }
   ],
   "source": [
    "#5.How many orders were made in the period?\n",
    "num_orders = df['order_id'].nunique()\n",
    "\n",
    "print(f\"The total number of orders made in the period is {num_orders}.\")\n"
   ]
  },
  {
   "cell_type": "code",
   "execution_count": 36,
   "id": "249a7375",
   "metadata": {},
   "outputs": [
    {
     "name": "stdout",
     "output_type": "stream",
     "text": [
      "The average revenue amount per order is $21.39.\n"
     ]
    }
   ],
   "source": [
    "#6.\tWhat is the average revenue amount per order?\n",
    "num_orders = df['order_id'].nunique()\n",
    "\n",
    "average_revenue_per_order = total_revenue / num_orders\n",
    "\n",
    "print(f\"The average revenue amount per order is ${average_revenue_per_order:.2f}.\")\n"
   ]
  },
  {
   "cell_type": "code",
   "execution_count": 37,
   "id": "0886f758",
   "metadata": {},
   "outputs": [
    {
     "name": "stdout",
     "output_type": "stream",
     "text": [
      "The total number of different items sold is 50.\n"
     ]
    }
   ],
   "source": [
    "#7.\tHow many different items are sold?\n",
    "\n",
    "num_items_sold = df['item_name'].nunique()\n",
    "\n",
    "print(f\"The total number of different items sold is {num_items_sold}.\")\n"
   ]
  },
  {
   "cell_type": "code",
   "execution_count": null,
   "id": "e496def6",
   "metadata": {},
   "outputs": [],
   "source": []
  }
 ],
 "metadata": {
  "kernelspec": {
   "display_name": "Python 3 (ipykernel)",
   "language": "python",
   "name": "python3"
  },
  "language_info": {
   "codemirror_mode": {
    "name": "ipython",
    "version": 3
   },
   "file_extension": ".py",
   "mimetype": "text/x-python",
   "name": "python",
   "nbconvert_exporter": "python",
   "pygments_lexer": "ipython3",
   "version": "3.10.9"
  }
 },
 "nbformat": 4,
 "nbformat_minor": 5
}
